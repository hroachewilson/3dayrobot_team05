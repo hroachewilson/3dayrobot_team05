{
 "cells": [
  {
   "cell_type": "code",
   "execution_count": 14,
   "metadata": {},
   "outputs": [],
   "source": [
    "import numpy as np\n",
    "import time\n",
    "import libraries.settings as lsettings\n",
    "import libraries.bearings as lbearings\n",
    "import libraries.pid as lpid\n",
    "import libraries.geometry as geo"
   ]
  },
  {
   "cell_type": "code",
   "execution_count": 15,
   "metadata": {},
   "outputs": [],
   "source": [
    "waypoints = [[-27.8552616667, 153.151291667],\n",
    "             [-27.8553216667, 153.151405],\n",
    "             [-27.8554266667, 153.151566667],\n",
    "             [-27.8555, 153.151725],\n",
    "             [-27.8555866667, 153.15189],\n",
    "             [-27.8557016667, 153.152083333],\n",
    "             [-27.855865, 153.152198333],\n",
    "             [-27.85597, 153.152228333],\n",
    "             [-27.8560216667, 153.152198333],\n",
    "             [-27.8560783333, 153.15216],\n",
    "             [-27.8561183333, 153.15206],\n",
    "             [-27.85611, 153.151958333],\n",
    "             [-27.856065, 153.151771667],\n",
    "             [-27.85603, 153.151628333],\n",
    "             [-27.8560016667, 153.151535],\n",
    "             [-27.85596, 153.151348333],\n",
    "             [-27.85584, 153.151086667],\n",
    "             [-27.8555833333, 153.150935],\n",
    "             [-27.8554083333, 153.150948333],\n",
    "             [-27.8553283333, 153.150986667],\n",
    "             [-27.8552716667, 153.151021667],\n",
    "             [-27.855235, 153.151121667]]"
   ]
  },
  {
   "cell_type": "code",
   "execution_count": 16,
   "metadata": {},
   "outputs": [],
   "source": [
    "pid_heading = lpid.PID(P=1.05, I=0.001, D=0.001)\n",
    "\n",
    "speed = 10 # m/s"
   ]
  },
  {
   "cell_type": "code",
   "execution_count": 17,
   "metadata": {},
   "outputs": [],
   "source": [
    "coord = [-27.855235, 153.151121667]\n",
    "point = waypoints[0]"
   ]
  },
  {
   "cell_type": "code",
   "execution_count": 26,
   "metadata": {},
   "outputs": [],
   "source": [
    "heading_compass = 240 # 0 = north, 90 = right (east), 180 = south, 270 = left (west)"
   ]
  },
  {
   "cell_type": "code",
   "execution_count": 27,
   "metadata": {},
   "outputs": [],
   "source": [
    "heading_want = lbearings.coord_bearing_degrees(coord[0], coord[1], point[0], point[1])\n",
    "heading_actual = heading_compass\n",
    "heading_error = heading_want - heading_actual\n",
    "\n",
    "if heading_error > 180:\n",
    "    heading_error = heading_error - 360\n",
    "elif heading_error <= -180:\n",
    "    heading_error = heading_error + 360"
   ]
  },
  {
   "cell_type": "code",
   "execution_count": 28,
   "metadata": {},
   "outputs": [],
   "source": [
    "turn_strength_pid = pid_heading.update(heading_error)"
   ]
  },
  {
   "cell_type": "code",
   "execution_count": 29,
   "metadata": {},
   "outputs": [
    {
     "name": "stdout",
     "output_type": "stream",
     "text": [
      "heading_want:  100.06071399510637\n",
      "heading_actual:  240\n",
      "heading_error:  -139.93928600489363\n",
      "turn_strength_pid:  175.0204284027941\n",
      "turn direction:  left\n"
     ]
    }
   ],
   "source": [
    "print('heading_want: ', heading_want)\n",
    "print('heading_actual: ', heading_actual)\n",
    "print('heading_error: ', heading_error)\n",
    "print('turn_strength_pid: ', turn_strength_pid)\n",
    "print('turn direction: ', 'left' if turn_strength_pid > 0 else 'right')"
   ]
  },
  {
   "cell_type": "code",
   "execution_count": null,
   "metadata": {},
   "outputs": [],
   "source": []
  }
 ],
 "metadata": {
  "kernelspec": {
   "display_name": "Python 3",
   "language": "python",
   "name": "python3"
  },
  "language_info": {
   "codemirror_mode": {
    "name": "ipython",
    "version": 3
   },
   "file_extension": ".py",
   "mimetype": "text/x-python",
   "name": "python",
   "nbconvert_exporter": "python",
   "pygments_lexer": "ipython3",
   "version": "3.6.3"
  }
 },
 "nbformat": 4,
 "nbformat_minor": 2
}
