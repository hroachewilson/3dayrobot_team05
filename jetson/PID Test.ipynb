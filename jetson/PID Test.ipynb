{
 "cells": [
  {
   "cell_type": "code",
   "execution_count": 2,
   "metadata": {},
   "outputs": [],
   "source": [
    "import numpy as np\n",
    "import time\n",
    "import libraries.settings as lsettings\n",
    "import libraries.bearings as lbearings\n",
    "import libraries.pid as lpid\n",
    "import libraries.geometry as geo"
   ]
  },
  {
   "cell_type": "code",
   "execution_count": 28,
   "metadata": {},
   "outputs": [],
   "source": [
    "waypoints = [[-27.8552616667, 153.151291667],\n",
    "             [-27.8553216667, 153.151405],\n",
    "             [-27.8554266667, 153.151566667],\n",
    "             [-27.8555, 153.151725],\n",
    "             [-27.8555866667, 153.15189],\n",
    "             [-27.8557016667, 153.152083333],\n",
    "             [-27.855865, 153.152198333],\n",
    "             [-27.85597, 153.152228333],\n",
    "             [-27.8560216667, 153.152198333],\n",
    "             [-27.8560783333, 153.15216],\n",
    "             [-27.8561183333, 153.15206],\n",
    "             [-27.85611, 153.151958333],\n",
    "             [-27.856065, 153.151771667],\n",
    "             [-27.85603, 153.151628333],\n",
    "             [-27.8560016667, 153.151535],\n",
    "             [-27.85596, 153.151348333],\n",
    "             [-27.85584, 153.151086667],\n",
    "             [-27.8555833333, 153.150935],\n",
    "             [-27.8554083333, 153.150948333],\n",
    "             [-27.8553283333, 153.150986667],\n",
    "             [-27.8552716667, 153.151021667],\n",
    "             [-27.855235, 153.151121667]]\n",
    "\n",
    "coord = [-27.8553283333, 153.150986667]\n",
    "\n",
    "pid_cross = lpid.PID(P=2.0, I=0.001, D=0.001)\n",
    "pid_steer = lpid.PID(P=2.0, I=0.001, D=0.002)\n",
    "\n",
    "point1 = waypoints[0]\n",
    "point2 = waypoints[1]\n",
    "\n",
    "dist_to_p1 = lbearings.coord_dist_meters(point1[0], point1[1], coord[0], coord[1])\n",
    "dist_to_p2 = lbearings.coord_dist_meters(point2[0], point2[1], coord[0], coord[1])"
   ]
  },
  {
   "cell_type": "code",
   "execution_count": 29,
   "metadata": {},
   "outputs": [],
   "source": [
    "cross_track_dist = geo.cross_track_distance(\n",
    "    point1[0],\n",
    "    point1[1],\n",
    "    point2[0],\n",
    "    point2[1],\n",
    "    coord[0],\n",
    "    coord[1]\n",
    ")\n",
    "\n",
    "pid_cross.clear()\n",
    "pid_steer.clear()"
   ]
  },
  {
   "cell_type": "code",
   "execution_count": 45,
   "metadata": {},
   "outputs": [],
   "source": [
    "coord = [-27.8552083333, 153.150106667]\n",
    "\n",
    "cross_track_dist = geo.cross_track_distance(\n",
    "    point1[0],\n",
    "    point1[1],\n",
    "    point2[0],\n",
    "    point2[1],\n",
    "    coord[0],\n",
    "    coord[1]\n",
    ")\n",
    "\n",
    "desired_heading = pid_cross.update(cross_track_dist)       \n",
    "desired_heading = desired_heading"
   ]
  },
  {
   "cell_type": "code",
   "execution_count": 46,
   "metadata": {},
   "outputs": [],
   "source": [
    "FACING_DEGREES_FROM_NORTH = 280 # 0 = facing north, 90 = east, 180 = south, 270 = west\n",
    "YAW_ROC = 30 # left = negative, right = positive\n",
    "\n",
    "mid_point = geo.midpoint(point1[0], point1[1], point2[0], point2[1])\n",
    "actual_heading = lbearings.coord_bearing_degrees(coord[0], coord[1], mid_point[0], mid_point[1])"
   ]
  },
  {
   "cell_type": "code",
   "execution_count": 47,
   "metadata": {},
   "outputs": [],
   "source": [
    "error_heading = (actual_heading + desired_heading) - FACING_DEGREES_FROM_NORTH"
   ]
  },
  {
   "cell_type": "code",
   "execution_count": 48,
   "metadata": {},
   "outputs": [],
   "source": [
    "steering_tuned = pid_steer.update(error_heading, delta_term=0)"
   ]
  },
  {
   "cell_type": "code",
   "execution_count": 49,
   "metadata": {},
   "outputs": [
    {
     "data": {
      "text/plain": [
       "247.79977912726412"
      ]
     },
     "execution_count": 49,
     "metadata": {},
     "output_type": "execute_result"
    }
   ],
   "source": [
    "steering_tuned # right = negative, left = positive?"
   ]
  },
  {
   "cell_type": "code",
   "execution_count": null,
   "metadata": {},
   "outputs": [],
   "source": []
  }
 ],
 "metadata": {
  "kernelspec": {
   "display_name": "Python 3",
   "language": "python",
   "name": "python3"
  },
  "language_info": {
   "codemirror_mode": {
    "name": "ipython",
    "version": 3
   },
   "file_extension": ".py",
   "mimetype": "text/x-python",
   "name": "python",
   "nbconvert_exporter": "python",
   "pygments_lexer": "ipython3",
   "version": "3.6.3"
  }
 },
 "nbformat": 4,
 "nbformat_minor": 2
}
