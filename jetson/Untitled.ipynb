{
 "cells": [
  {
   "cell_type": "code",
   "execution_count": 36,
   "metadata": {},
   "outputs": [],
   "source": [
    "import numpy as np\n",
    "import time\n",
    "import libraries.settings as lsettings\n",
    "import libraries.bearings as lbearings\n",
    "import libraries.pid as lpid\n",
    "import libraries.geometry as geo"
   ]
  },
  {
   "cell_type": "code",
   "execution_count": 37,
   "metadata": {},
   "outputs": [],
   "source": [
    "waypoints = [[-27.899633, 153.174294], [-27.899328, 153.174449], [-27.899328, 153.174449], [-27.898983, 153.174564]]\n",
    "\n",
    "coord = [-27.899810, 153.174173]\n",
    "\n",
    "pid_cross = lpid.PID(P=2.0, I=0.001, D=0.001)\n",
    "pid_steer = lpid.PID(P=1.5, I=0.001, D=0.002)\n",
    "\n",
    "point1 = waypoints[0]\n",
    "point2 = waypoints[1]\n",
    "\n",
    "dist_to_p1 = lbearings.coord_dist_meters(point1[0], point1[1], coord[0], coord[1])\n",
    "dist_to_p2 = lbearings.coord_dist_meters(point2[0], point2[1], coord[0], coord[1])"
   ]
  },
  {
   "cell_type": "code",
   "execution_count": 38,
   "metadata": {},
   "outputs": [],
   "source": [
    "cross_track_dist = geo.cross_track_distance(\n",
    "    point1[0],\n",
    "    point1[1],\n",
    "    point2[0],\n",
    "    point2[1],\n",
    "    coord[0],\n",
    "    coord[1]\n",
    ")\n",
    "\n",
    "pid_cross.clear()"
   ]
  },
  {
   "cell_type": "code",
   "execution_count": 39,
   "metadata": {},
   "outputs": [],
   "source": [
    "desired_heading = pid_cross.update(cross_track_dist)\n",
    "desired_heading = desired_heading - 180"
   ]
  },
  {
   "cell_type": "code",
   "execution_count": 44,
   "metadata": {},
   "outputs": [],
   "source": [
    "mid_point = geo.midpoint(point1[0], point1[1], point2[0], point2[1])\n",
    "actual_heading = lbearings.coord_bearing_degrees(coord[0], coord[1], mid_point[0], mid_point[1])"
   ]
  },
  {
   "cell_type": "code",
   "execution_count": 45,
   "metadata": {},
   "outputs": [],
   "source": [
    "error_heading = (actual_heading + desired_heading) - 180 - 90"
   ]
  },
  {
   "cell_type": "code",
   "execution_count": 46,
   "metadata": {},
   "outputs": [],
   "source": [
    "steering_tuned = pid_steer.update(error_heading, delta_term=0.004)"
   ]
  },
  {
   "cell_type": "code",
   "execution_count": 47,
   "metadata": {},
   "outputs": [
    {
     "data": {
      "text/plain": [
       "168.70415778048437"
      ]
     },
     "execution_count": 47,
     "metadata": {},
     "output_type": "execute_result"
    }
   ],
   "source": []
  },
  {
   "cell_type": "code",
   "execution_count": null,
   "metadata": {},
   "outputs": [],
   "source": []
  }
 ],
 "metadata": {
  "kernelspec": {
   "display_name": "Python 3",
   "language": "python",
   "name": "python3"
  },
  "language_info": {
   "codemirror_mode": {
    "name": "ipython",
    "version": 3
   },
   "file_extension": ".py",
   "mimetype": "text/x-python",
   "name": "python",
   "nbconvert_exporter": "python",
   "pygments_lexer": "ipython3",
   "version": "3.6.3"
  }
 },
 "nbformat": 4,
 "nbformat_minor": 2
}
